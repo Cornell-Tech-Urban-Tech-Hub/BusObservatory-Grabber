{
 "cells": [
  {
   "cell_type": "code",
   "execution_count": 1,
   "id": "59e59939-3d98-4371-b99d-2ab7985afc92",
   "metadata": {},
   "outputs": [],
   "source": [
    "c = \"\"\"\n",
    "{\n",
    "    \"tfnsw_bus\":{\n",
    "        \"publish\":\"True\",\n",
    "        \"system_name\":\"Transport for New South Wales-Buses\",\n",
    "        \"city_name\":\"Sydney, AU\",\n",
    "        \"feed_type\":\"gtfsrt\",\n",
    "        \"url\":\"https://api.transport.nsw.gov.au/v1/gtfs/vehiclepos/buses\",\n",
    "        \"api_key\":\"HTHniGwUwxSJoty8T3kQTtBtd9jxBl8QFyws\",\n",
    "        \"header\": \"True\",\n",
    "        \"header_format\": {\n",
    "            \"key_name\": \"Authorization\",\n",
    "            \"template\": \"apikey {key_value}\"\n",
    "            },\n",
    "        \"route_key\":\"vehicle.trip.route_id\",\n",
    "        \"timestamp_key\":\"vehicle.timestamp\",\n",
    "        \"tz\": \"Australia/Sydney\",\n",
    "        \"notes\": \"Sampled once per minute. We parse all fields in this feed.\"\n",
    "    },\n",
    "    \"nyct_mta_bus_siri\":{\n",
    "        \"publish\":\"True\",\n",
    "        \"system_name\":\"MTA New York City Transit Buses (SIRI)\",\n",
    "        \"city_name\":\"New York City, US\",\n",
    "        \"feed_type\":\"siri\",\n",
    "        \"url\":\"http://gtfsrt.prod.obanyc.com/vehiclePositions?key={}\",\n",
    "        \"api_key\":\"088886bd-cc48-4d7c-bd8a-498d353d7d13\",\n",
    "        \"header\": \"False\",\n",
    "        \"route_key\":\"route\",\n",
    "        \"timestamp_key\":\"timestamp\",\n",
    "        \"tz\": \"America/New_York\",\n",
    "        \"notes\": \"Sampled once per minute. We parse all fields in this feed.\"\n",
    "    },\n",
    "    \"nyct_mta_bus_gtfsrt\":{\n",
    "        \"publish\":\"False\",\n",
    "        \"system_name\":\"MTA New York City Transit Buses (GTFS-RT)\",\n",
    "        \"city_name\":\"New York City, US\",\n",
    "        \"feed_type\":\"gtfsrt\",\n",
    "        \"url\":\"http://gtfsrt.prod.obanyc.com/vehiclePositions?key={}\",\n",
    "        \"api_key\":\"088886bd-cc48-4d7c-bd8a-498d353d7d13\",\n",
    "        \"header\": \"False\",\n",
    "        \"route_key\":\"vehicle.trip.route_id\",\n",
    "        \"timestamp_key\":\"vehicle.timestamp\",\n",
    "        \"tz\": \"America/New_York\",\n",
    "        \"notes\": \"Sampled once per minute. Note that coverage of some fields is not available for all periods. The passenger_count and next_stop* fields are not available before May 2021.\"\n",
    "    },\n",
    "    \"njtransit_bus\":{\n",
    "        \"publish\":\"True\",\n",
    "        \"system_name\":\"NJTransit Buses\",\n",
    "        \"city_name\":\"New Jersey, US\",\n",
    "        \"feed_type\":\"njxml\",\n",
    "        \"url\":\"http://mybusnow.njtransit.com/bustime/map/getBusesForRouteAll.jsp\",\n",
    "        \"header\": \"False\",\n",
    "        \"route_key\":\"rt\",\n",
    "        \"timestamp_key\":\"timestamp\",\n",
    "        \"tz\": \"America/New_York\",\n",
    "        \"notes\": \"Sampled once per minute. This feed is based on an old technology and returns an XML response. We parse most of the fields in this feed, but most of them are undocumented.\"\n",
    "    }\n",
    "}\n",
    "\n",
    "\"\"\""
   ]
  },
  {
   "cell_type": "code",
   "execution_count": 2,
   "id": "4c9a80ff-cbf7-404e-b99e-84c98a5a65ae",
   "metadata": {},
   "outputs": [],
   "source": [
    "import json\n",
    "sorted_configdata = json.loads(c)"
   ]
  },
  {
   "cell_type": "code",
   "execution_count": 3,
   "id": "1884fec2-a186-4903-b74b-c851bbfb550f",
   "metadata": {},
   "outputs": [
    {
     "data": {
      "text/plain": [
       "{'tfnsw_bus': {'publish': 'True',\n",
       "  'system_name': 'Transport for New South Wales-Buses',\n",
       "  'city_name': 'Sydney, AU',\n",
       "  'feed_type': 'gtfsrt',\n",
       "  'url': 'https://api.transport.nsw.gov.au/v1/gtfs/vehiclepos/buses',\n",
       "  'api_key': 'HTHniGwUwxSJoty8T3kQTtBtd9jxBl8QFyws',\n",
       "  'header': 'True',\n",
       "  'header_format': {'key_name': 'Authorization',\n",
       "   'template': 'apikey {key_value}'},\n",
       "  'route_key': 'vehicle.trip.route_id',\n",
       "  'timestamp_key': 'vehicle.timestamp',\n",
       "  'tz': 'Australia/Sydney',\n",
       "  'notes': 'Sampled once per minute. We parse all fields in this feed.'},\n",
       " 'nyct_mta_bus_siri': {'publish': 'True',\n",
       "  'system_name': 'MTA New York City Transit Buses (SIRI)',\n",
       "  'city_name': 'New York City, US',\n",
       "  'feed_type': 'siri',\n",
       "  'url': 'http://gtfsrt.prod.obanyc.com/vehiclePositions?key={}',\n",
       "  'api_key': '088886bd-cc48-4d7c-bd8a-498d353d7d13',\n",
       "  'header': 'False',\n",
       "  'route_key': 'route',\n",
       "  'timestamp_key': 'timestamp',\n",
       "  'tz': 'America/New_York',\n",
       "  'notes': 'Sampled once per minute. We parse all fields in this feed.'},\n",
       " 'nyct_mta_bus_gtfsrt': {'publish': 'False',\n",
       "  'system_name': 'MTA New York City Transit Buses (GTFS-RT)',\n",
       "  'city_name': 'New York City, US',\n",
       "  'feed_type': 'gtfsrt',\n",
       "  'url': 'http://gtfsrt.prod.obanyc.com/vehiclePositions?key={}',\n",
       "  'api_key': '088886bd-cc48-4d7c-bd8a-498d353d7d13',\n",
       "  'header': 'False',\n",
       "  'route_key': 'vehicle.trip.route_id',\n",
       "  'timestamp_key': 'vehicle.timestamp',\n",
       "  'tz': 'America/New_York',\n",
       "  'notes': 'Sampled once per minute. Note that coverage of some fields is not available for all periods. The passenger_count and next_stop* fields are not available before May 2021.'},\n",
       " 'njtransit_bus': {'publish': 'True',\n",
       "  'system_name': 'NJTransit Buses',\n",
       "  'city_name': 'New Jersey, US',\n",
       "  'feed_type': 'njxml',\n",
       "  'url': 'http://mybusnow.njtransit.com/bustime/map/getBusesForRouteAll.jsp',\n",
       "  'header': 'False',\n",
       "  'route_key': 'rt',\n",
       "  'timestamp_key': 'timestamp',\n",
       "  'tz': 'America/New_York',\n",
       "  'notes': 'Sampled once per minute. This feed is based on an old technology and returns an XML response. We parse most of the fields in this feed, but most of them are undocumented.'}}"
      ]
     },
     "execution_count": 3,
     "metadata": {},
     "output_type": "execute_result"
    }
   ],
   "source": [
    "sorted_configdata"
   ]
  },
  {
   "cell_type": "code",
   "execution_count": 4,
   "id": "7a8b42df-ec2e-49fe-bf27-fac654b8cdca",
   "metadata": {},
   "outputs": [
    {
     "data": {
      "text/plain": [
       "{'tfnsw_bus': {'publish': 'True',\n",
       "  'system_name': 'Transport for New South Wales-Buses',\n",
       "  'city_name': 'Sydney, AU',\n",
       "  'feed_type': 'gtfsrt',\n",
       "  'url': 'https://api.transport.nsw.gov.au/v1/gtfs/vehiclepos/buses',\n",
       "  'api_key': 'HTHniGwUwxSJoty8T3kQTtBtd9jxBl8QFyws',\n",
       "  'header': 'True',\n",
       "  'header_format': {'key_name': 'Authorization',\n",
       "   'template': 'apikey {key_value}'},\n",
       "  'route_key': 'vehicle.trip.route_id',\n",
       "  'timestamp_key': 'vehicle.timestamp',\n",
       "  'tz': 'Australia/Sydney',\n",
       "  'notes': 'Sampled once per minute. We parse all fields in this feed.'},\n",
       " 'nyct_mta_bus_siri': {'publish': 'True',\n",
       "  'system_name': 'MTA New York City Transit Buses (SIRI)',\n",
       "  'city_name': 'New York City, US',\n",
       "  'feed_type': 'siri',\n",
       "  'url': 'http://gtfsrt.prod.obanyc.com/vehiclePositions?key={}',\n",
       "  'api_key': '088886bd-cc48-4d7c-bd8a-498d353d7d13',\n",
       "  'header': 'False',\n",
       "  'route_key': 'route',\n",
       "  'timestamp_key': 'timestamp',\n",
       "  'tz': 'America/New_York',\n",
       "  'notes': 'Sampled once per minute. We parse all fields in this feed.'},\n",
       " 'njtransit_bus': {'publish': 'True',\n",
       "  'system_name': 'NJTransit Buses',\n",
       "  'city_name': 'New Jersey, US',\n",
       "  'feed_type': 'njxml',\n",
       "  'url': 'http://mybusnow.njtransit.com/bustime/map/getBusesForRouteAll.jsp',\n",
       "  'header': 'False',\n",
       "  'route_key': 'rt',\n",
       "  'timestamp_key': 'timestamp',\n",
       "  'tz': 'America/New_York',\n",
       "  'notes': 'Sampled once per minute. This feed is based on an old technology and returns an XML response. We parse most of the fields in this feed, but most of them are undocumented.'}}"
      ]
     },
     "execution_count": 4,
     "metadata": {},
     "output_type": "execute_result"
    }
   ],
   "source": [
    "{system_id: system_data for system_id, system_data in sorted_configdata.items() if system_data['publish'] == 'True'}"
   ]
  },
  {
   "cell_type": "code",
   "execution_count": null,
   "id": "90abfd07-e4fe-44d3-96ad-e64aa3b5d1ec",
   "metadata": {},
   "outputs": [],
   "source": []
  }
 ],
 "metadata": {
  "kernelspec": {
   "display_name": "Python [conda env:bigdata]",
   "language": "python",
   "name": "conda-env-bigdata-py"
  },
  "language_info": {
   "codemirror_mode": {
    "name": "ipython",
    "version": 3
   },
   "file_extension": ".py",
   "mimetype": "text/x-python",
   "name": "python",
   "nbconvert_exporter": "python",
   "pygments_lexer": "ipython3",
   "version": "3.10.6"
  }
 },
 "nbformat": 4,
 "nbformat_minor": 5
}
