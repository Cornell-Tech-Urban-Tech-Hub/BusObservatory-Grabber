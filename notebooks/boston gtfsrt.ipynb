{
 "cells": [
  {
   "cell_type": "code",
   "execution_count": 10,
   "id": "b3c19c19-8a7f-4ae8-96bd-e24f7d950edd",
   "metadata": {},
   "outputs": [],
   "source": [
    "url = \"https://cdn.mbta.com/realtime/VehiclePositions.pb\""
   ]
  },
  {
   "cell_type": "code",
   "execution_count": 6,
   "id": "d0ce450d",
   "metadata": {},
   "outputs": [],
   "source": [
    "import requests\n",
    "from google.transit import gtfs_realtime_pb2"
   ]
  },
  {
   "cell_type": "code",
   "execution_count": 7,
   "id": "c621d228",
   "metadata": {},
   "outputs": [],
   "source": [
    "# https://bennettgarner.medium.com/parsing-gtfs-format-transit-data-in-real-time-with-python-3a528ba7aab7"
   ]
  },
  {
   "cell_type": "code",
   "execution_count": 8,
   "id": "bd105fc8",
   "metadata": {},
   "outputs": [],
   "source": [
    "feed = gtfs_realtime_pb2.FeedMessage()"
   ]
  },
  {
   "cell_type": "code",
   "execution_count": 11,
   "id": "71895ae9",
   "metadata": {},
   "outputs": [],
   "source": [
    "response = requests.get(url, allow_redirects=True)"
   ]
  },
  {
   "cell_type": "code",
   "execution_count": 12,
   "id": "7f28c47d",
   "metadata": {},
   "outputs": [
    {
     "data": {
      "text/plain": [
       "46746"
      ]
     },
     "execution_count": 12,
     "metadata": {},
     "output_type": "execute_result"
    }
   ],
   "source": [
    "feed.ParseFromString(response.content)"
   ]
  },
  {
   "cell_type": "code",
   "execution_count": 13,
   "id": "07b21654",
   "metadata": {},
   "outputs": [
    {
     "data": {
      "text/plain": [
       "id: \"y0789\"\n",
       "vehicle {\n",
       "  trip {\n",
       "    trip_id: \"53411363\"\n",
       "    start_time: \"11:15:00\"\n",
       "    start_date: \"20220916\"\n",
       "    schedule_relationship: SCHEDULED\n",
       "    route_id: \"220\"\n",
       "    direction_id: 1\n",
       "  }\n",
       "  position {\n",
       "    latitude: 42.244984\n",
       "    longitude: -70.88451\n",
       "    bearing: 0.0\n",
       "  }\n",
       "  current_stop_sequence: 2\n",
       "  current_status: IN_TRANSIT_TO\n",
       "  timestamp: 1663341432\n",
       "  stop_id: \"3589\"\n",
       "  vehicle {\n",
       "    id: \"y0789\"\n",
       "    label: \"0789\"\n",
       "  }\n",
       "  occupancy_status: MANY_SEATS_AVAILABLE\n",
       "  occupancy_percentage: 0\n",
       "}"
      ]
     },
     "execution_count": 13,
     "metadata": {},
     "output_type": "execute_result"
    }
   ],
   "source": [
    "feed.entity[0]"
   ]
  },
  {
   "cell_type": "code",
   "execution_count": null,
   "id": "8446f2b4",
   "metadata": {},
   "outputs": [],
   "source": []
  }
 ],
 "metadata": {
  "interpreter": {
   "hash": "f1e22800e7071019f7887c9d0fe133a5e2a83835587d314a998ce685925d90ab"
  },
  "kernelspec": {
   "display_name": "Python [conda env:gtfs]",
   "language": "python",
   "name": "python3"
  },
  "language_info": {
   "codemirror_mode": {
    "name": "ipython",
    "version": 3
   },
   "file_extension": ".py",
   "mimetype": "text/x-python",
   "name": "python",
   "nbconvert_exporter": "python",
   "pygments_lexer": "ipython3",
   "version": "3.9.10"
  }
 },
 "nbformat": 4,
 "nbformat_minor": 5
}
