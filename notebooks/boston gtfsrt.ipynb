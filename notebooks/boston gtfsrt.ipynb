{
 "cells": [
  {
   "cell_type": "code",
   "execution_count": 1,
   "id": "b3c19c19-8a7f-4ae8-96bd-e24f7d950edd",
   "metadata": {},
   "outputs": [],
   "source": [
    "# url = \"https://cdn.mbta.com/realtime/VehiclePositions.pb\"\n",
    "url = \"https://api.wmata.com/gtfs/bus-gtfsrt-vehiclepositions.pb\""
   ]
  },
  {
   "cell_type": "code",
   "execution_count": 11,
   "id": "9874f92b-4212-4899-9ba7-0b72662cc3c3",
   "metadata": {},
   "outputs": [
    {
     "data": {
      "text/plain": [
       "''"
      ]
     },
     "execution_count": 11,
     "metadata": {},
     "output_type": "execute_result"
    }
   ],
   "source": [
    "\n",
    "########### Python 3.2 #############\n",
    "import http.client, urllib.request, urllib.parse, urllib.error, base64\n",
    "\n",
    "headers = {\n",
    "    # Request headers\n",
    "    'api_key': '600a6e5ded8a45cdbc1a014094e97eee',\n",
    "}\n",
    "\n",
    "params = urllib.parse.urlencode({\n",
    "})\n",
    "params"
   ]
  },
  {
   "cell_type": "code",
   "execution_count": null,
   "id": "1b07dac2-f77b-42ce-b2d3-9cbff376f10e",
   "metadata": {},
   "outputs": [],
   "source": [
    "\n",
    "try:\n",
    "    conn = http.client.HTTPSConnection('api.wmata.com')\n",
    "    conn.request(\"GET\", \"/gtfs/bus-gtfsrt-vehiclepositions.pb?%s\" % params, \"{body}\", headers)\n",
    "    response = conn.getresponse()\n",
    "    data = response.read()\n",
    "    print(data)\n",
    "    conn.close()\n",
    "except Exception as e:\n",
    "    print(\"[Errno {0}] {1}\".format(e.errno, e.strerror))\n",
    "\n",
    "####################################\n",
    "\n"
   ]
  },
  {
   "cell_type": "code",
   "execution_count": 2,
   "id": "d0ce450d",
   "metadata": {},
   "outputs": [],
   "source": [
    "import requests\n",
    "from google.transit import gtfs_realtime_pb2"
   ]
  },
  {
   "cell_type": "code",
   "execution_count": 3,
   "id": "c621d228",
   "metadata": {},
   "outputs": [],
   "source": [
    "# https://bennettgarner.medium.com/parsing-gtfs-format-transit-data-in-real-time-with-python-3a528ba7aab7"
   ]
  },
  {
   "cell_type": "code",
   "execution_count": 4,
   "id": "bd105fc8",
   "metadata": {},
   "outputs": [],
   "source": [
    "feed = gtfs_realtime_pb2.FeedMessage()"
   ]
  },
  {
   "cell_type": "code",
   "execution_count": 12,
   "id": "71895ae9",
   "metadata": {},
   "outputs": [],
   "source": [
    "headers = {\n",
    "    # Request headers\n",
    "    'api_key': '600a6e5ded8a45cdbc1a014094e97eee',\n",
    "}\n",
    "\n",
    "response = requests.get(\n",
    "    url, \n",
    "    allow_redirects=True,\n",
    "    headers=headers\n",
    ")\n"
   ]
  },
  {
   "cell_type": "code",
   "execution_count": 13,
   "id": "7f28c47d",
   "metadata": {},
   "outputs": [
    {
     "data": {
      "text/plain": [
       "31375"
      ]
     },
     "execution_count": 13,
     "metadata": {},
     "output_type": "execute_result"
    }
   ],
   "source": [
    "feed.ParseFromString(response.content)"
   ]
  },
  {
   "cell_type": "code",
   "execution_count": 14,
   "id": "07b21654",
   "metadata": {},
   "outputs": [
    {
     "data": {
      "text/plain": [
       "id: \"8098\"\n",
       "vehicle {\n",
       "  trip {\n",
       "    trip_id: \"32221060\"\n",
       "    start_date: \"20220916\"\n",
       "    route_id: \"W4\"\n",
       "  }\n",
       "  position {\n",
       "    latitude: 38.90806\n",
       "    longitude: -76.93486\n",
       "    bearing: 45.59465\n",
       "    speed: 0.0\n",
       "  }\n",
       "  current_stop_sequence: 3\n",
       "  current_status: STOPPED_AT\n",
       "  timestamp: 1663378272\n",
       "  stop_id: \"12044\"\n",
       "  vehicle {\n",
       "    id: \"8098\"\n",
       "  }\n",
       "  occupancy_status: MANY_SEATS_AVAILABLE\n",
       "}"
      ]
     },
     "execution_count": 14,
     "metadata": {},
     "output_type": "execute_result"
    }
   ],
   "source": [
    "feed.entity[0]"
   ]
  },
  {
   "cell_type": "code",
   "execution_count": null,
   "id": "8446f2b4",
   "metadata": {},
   "outputs": [],
   "source": []
  }
 ],
 "metadata": {
  "interpreter": {
   "hash": "f1e22800e7071019f7887c9d0fe133a5e2a83835587d314a998ce685925d90ab"
  },
  "kernelspec": {
   "display_name": "Python [conda env:gtfs]",
   "language": "python",
   "name": "conda-env-gtfs-py"
  },
  "language_info": {
   "codemirror_mode": {
    "name": "ipython",
    "version": 3
   },
   "file_extension": ".py",
   "mimetype": "text/x-python",
   "name": "python",
   "nbconvert_exporter": "python",
   "pygments_lexer": "ipython3",
   "version": "3.9.10"
  }
 },
 "nbformat": 4,
 "nbformat_minor": 5
}
