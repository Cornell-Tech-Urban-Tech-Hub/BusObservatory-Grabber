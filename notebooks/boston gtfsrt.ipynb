{
 "cells": [
  {
   "cell_type": "code",
   "execution_count": 1,
   "id": "b3c19c19-8a7f-4ae8-96bd-e24f7d950edd",
   "metadata": {},
   "outputs": [],
   "source": [
    "# url = \"https://cdn.mbta.com/realtime/VehiclePositions.pb\"\n",
    "url = \"https://api.wmata.com/gtfs/bus-gtfsrt-vehiclepositions.pb\""
   ]
  },
  {
   "cell_type": "code",
   "execution_count": 2,
   "id": "d0ce450d",
   "metadata": {},
   "outputs": [],
   "source": [
    "import requests\n",
    "from google.transit import gtfs_realtime_pb2"
   ]
  },
  {
   "cell_type": "code",
   "execution_count": 3,
   "id": "c621d228",
   "metadata": {},
   "outputs": [],
   "source": [
    "# https://bennettgarner.medium.com/parsing-gtfs-format-transit-data-in-real-time-with-python-3a528ba7aab7"
   ]
  },
  {
   "cell_type": "code",
   "execution_count": 4,
   "id": "bd105fc8",
   "metadata": {},
   "outputs": [],
   "source": [
    "feed = gtfs_realtime_pb2.FeedMessage()"
   ]
  },
  {
   "cell_type": "code",
   "execution_count": 5,
   "id": "71895ae9",
   "metadata": {},
   "outputs": [],
   "source": [
    "response = requests.get(url, allow_redirects=True)"
   ]
  },
  {
   "cell_type": "code",
   "execution_count": 6,
   "id": "7f28c47d",
   "metadata": {},
   "outputs": [
    {
     "ename": "DecodeError",
     "evalue": "Truncated message.",
     "output_type": "error",
     "traceback": [
      "\u001b[0;31m---------------------------------------------------------------------------\u001b[0m",
      "\u001b[0;31mIndexError\u001b[0m                                Traceback (most recent call last)",
      "File \u001b[0;32m/opt/bin/mambaforge/envs/gtfs/lib/python3.9/site-packages/google/protobuf/internal/python_message.py:1128\u001b[0m, in \u001b[0;36m_AddMergeFromStringMethod.<locals>.MergeFromString\u001b[0;34m(self, serialized)\u001b[0m\n\u001b[1;32m   1127\u001b[0m \u001b[38;5;28;01mtry\u001b[39;00m:\n\u001b[0;32m-> 1128\u001b[0m   \u001b[38;5;28;01mif\u001b[39;00m \u001b[38;5;28;43mself\u001b[39;49m\u001b[38;5;241;43m.\u001b[39;49m\u001b[43m_InternalParse\u001b[49m\u001b[43m(\u001b[49m\u001b[43mserialized\u001b[49m\u001b[43m,\u001b[49m\u001b[43m \u001b[49m\u001b[38;5;241;43m0\u001b[39;49m\u001b[43m,\u001b[49m\u001b[43m \u001b[49m\u001b[43mlength\u001b[49m\u001b[43m)\u001b[49m \u001b[38;5;241m!=\u001b[39m length:\n\u001b[1;32m   1129\u001b[0m     \u001b[38;5;66;03m# The only reason _InternalParse would return early is if it\u001b[39;00m\n\u001b[1;32m   1130\u001b[0m     \u001b[38;5;66;03m# encountered an end-group tag.\u001b[39;00m\n\u001b[1;32m   1131\u001b[0m     \u001b[38;5;28;01mraise\u001b[39;00m message_mod\u001b[38;5;241m.\u001b[39mDecodeError(\u001b[38;5;124m'\u001b[39m\u001b[38;5;124mUnexpected end-group tag.\u001b[39m\u001b[38;5;124m'\u001b[39m)\n",
      "File \u001b[0;32m/opt/bin/mambaforge/envs/gtfs/lib/python3.9/site-packages/google/protobuf/internal/python_message.py:1181\u001b[0m, in \u001b[0;36m_AddMergeFromStringMethod.<locals>.InternalParse\u001b[0;34m(self, buffer, pos, end)\u001b[0m\n\u001b[1;32m   1180\u001b[0m old_pos \u001b[38;5;241m=\u001b[39m new_pos\n\u001b[0;32m-> 1181\u001b[0m (data, new_pos) \u001b[38;5;241m=\u001b[39m \u001b[43mdecoder\u001b[49m\u001b[38;5;241;43m.\u001b[39;49m\u001b[43m_DecodeUnknownField\u001b[49m\u001b[43m(\u001b[49m\n\u001b[1;32m   1182\u001b[0m \u001b[43m    \u001b[49m\u001b[43mbuffer\u001b[49m\u001b[43m,\u001b[49m\u001b[43m \u001b[49m\u001b[43mnew_pos\u001b[49m\u001b[43m,\u001b[49m\u001b[43m \u001b[49m\u001b[43mwire_type\u001b[49m\u001b[43m)\u001b[49m  \u001b[38;5;66;03m# pylint: disable=protected-access\u001b[39;00m\n\u001b[1;32m   1183\u001b[0m \u001b[38;5;28;01mif\u001b[39;00m new_pos \u001b[38;5;241m==\u001b[39m \u001b[38;5;241m-\u001b[39m\u001b[38;5;241m1\u001b[39m:\n",
      "File \u001b[0;32m/opt/bin/mambaforge/envs/gtfs/lib/python3.9/site-packages/google/protobuf/internal/decoder.py:961\u001b[0m, in \u001b[0;36m_DecodeUnknownField\u001b[0;34m(buffer, pos, wire_type)\u001b[0m\n\u001b[1;32m    960\u001b[0m \u001b[38;5;28;01melif\u001b[39;00m wire_type \u001b[38;5;241m==\u001b[39m wire_format\u001b[38;5;241m.\u001b[39mWIRETYPE_START_GROUP:\n\u001b[0;32m--> 961\u001b[0m   (data, pos) \u001b[38;5;241m=\u001b[39m \u001b[43m_DecodeUnknownFieldSet\u001b[49m\u001b[43m(\u001b[49m\u001b[43mbuffer\u001b[49m\u001b[43m,\u001b[49m\u001b[43m \u001b[49m\u001b[43mpos\u001b[49m\u001b[43m)\u001b[49m\n\u001b[1;32m    962\u001b[0m \u001b[38;5;28;01melif\u001b[39;00m wire_type \u001b[38;5;241m==\u001b[39m wire_format\u001b[38;5;241m.\u001b[39mWIRETYPE_END_GROUP:\n",
      "File \u001b[0;32m/opt/bin/mambaforge/envs/gtfs/lib/python3.9/site-packages/google/protobuf/internal/decoder.py:935\u001b[0m, in \u001b[0;36m_DecodeUnknownFieldSet\u001b[0;34m(buffer, pos, end_pos)\u001b[0m\n\u001b[1;32m    934\u001b[0m \u001b[38;5;28;01mwhile\u001b[39;00m end_pos \u001b[38;5;129;01mis\u001b[39;00m \u001b[38;5;28;01mNone\u001b[39;00m \u001b[38;5;129;01mor\u001b[39;00m pos \u001b[38;5;241m<\u001b[39m end_pos:\n\u001b[0;32m--> 935\u001b[0m   (tag_bytes, pos) \u001b[38;5;241m=\u001b[39m \u001b[43mReadTag\u001b[49m\u001b[43m(\u001b[49m\u001b[43mbuffer\u001b[49m\u001b[43m,\u001b[49m\u001b[43m \u001b[49m\u001b[43mpos\u001b[49m\u001b[43m)\u001b[49m\n\u001b[1;32m    936\u001b[0m   (tag, _) \u001b[38;5;241m=\u001b[39m _DecodeVarint(tag_bytes, \u001b[38;5;241m0\u001b[39m)\n",
      "File \u001b[0;32m/opt/bin/mambaforge/envs/gtfs/lib/python3.9/site-packages/google/protobuf/internal/decoder.py:174\u001b[0m, in \u001b[0;36mReadTag\u001b[0;34m(buffer, pos)\u001b[0m\n\u001b[1;32m    173\u001b[0m start \u001b[38;5;241m=\u001b[39m pos\n\u001b[0;32m--> 174\u001b[0m \u001b[38;5;28;01mwhile\u001b[39;00m \u001b[43mbuffer\u001b[49m\u001b[43m[\u001b[49m\u001b[43mpos\u001b[49m\u001b[43m]\u001b[49m \u001b[38;5;241m&\u001b[39m \u001b[38;5;241m0x80\u001b[39m:\n\u001b[1;32m    175\u001b[0m   pos \u001b[38;5;241m+\u001b[39m\u001b[38;5;241m=\u001b[39m \u001b[38;5;241m1\u001b[39m\n",
      "\u001b[0;31mIndexError\u001b[0m: index out of bounds on dimension 1",
      "\nDuring handling of the above exception, another exception occurred:\n",
      "\u001b[0;31mDecodeError\u001b[0m                               Traceback (most recent call last)",
      "Cell \u001b[0;32mIn [6], line 1\u001b[0m\n\u001b[0;32m----> 1\u001b[0m \u001b[43mfeed\u001b[49m\u001b[38;5;241;43m.\u001b[39;49m\u001b[43mParseFromString\u001b[49m\u001b[43m(\u001b[49m\u001b[43mresponse\u001b[49m\u001b[38;5;241;43m.\u001b[39;49m\u001b[43mcontent\u001b[49m\u001b[43m)\u001b[49m\n",
      "File \u001b[0;32m/opt/bin/mambaforge/envs/gtfs/lib/python3.9/site-packages/google/protobuf/message.py:202\u001b[0m, in \u001b[0;36mMessage.ParseFromString\u001b[0;34m(self, serialized)\u001b[0m\n\u001b[1;32m    194\u001b[0m \u001b[38;5;124;03m\"\"\"Parse serialized protocol buffer data into this message.\u001b[39;00m\n\u001b[1;32m    195\u001b[0m \n\u001b[1;32m    196\u001b[0m \u001b[38;5;124;03mLike :func:`MergeFromString()`, except we clear the object first.\u001b[39;00m\n\u001b[0;32m   (...)\u001b[0m\n\u001b[1;32m    199\u001b[0m \u001b[38;5;124;03m  message.DecodeError if the input cannot be parsed.\u001b[39;00m\n\u001b[1;32m    200\u001b[0m \u001b[38;5;124;03m\"\"\"\u001b[39;00m\n\u001b[1;32m    201\u001b[0m \u001b[38;5;28mself\u001b[39m\u001b[38;5;241m.\u001b[39mClear()\n\u001b[0;32m--> 202\u001b[0m \u001b[38;5;28;01mreturn\u001b[39;00m \u001b[38;5;28;43mself\u001b[39;49m\u001b[38;5;241;43m.\u001b[39;49m\u001b[43mMergeFromString\u001b[49m\u001b[43m(\u001b[49m\u001b[43mserialized\u001b[49m\u001b[43m)\u001b[49m\n",
      "File \u001b[0;32m/opt/bin/mambaforge/envs/gtfs/lib/python3.9/site-packages/google/protobuf/internal/python_message.py:1134\u001b[0m, in \u001b[0;36m_AddMergeFromStringMethod.<locals>.MergeFromString\u001b[0;34m(self, serialized)\u001b[0m\n\u001b[1;32m   1131\u001b[0m     \u001b[38;5;28;01mraise\u001b[39;00m message_mod\u001b[38;5;241m.\u001b[39mDecodeError(\u001b[38;5;124m'\u001b[39m\u001b[38;5;124mUnexpected end-group tag.\u001b[39m\u001b[38;5;124m'\u001b[39m)\n\u001b[1;32m   1132\u001b[0m \u001b[38;5;28;01mexcept\u001b[39;00m (\u001b[38;5;167;01mIndexError\u001b[39;00m, \u001b[38;5;167;01mTypeError\u001b[39;00m):\n\u001b[1;32m   1133\u001b[0m   \u001b[38;5;66;03m# Now ord(buf[p:p+1]) == ord('') gets TypeError.\u001b[39;00m\n\u001b[0;32m-> 1134\u001b[0m   \u001b[38;5;28;01mraise\u001b[39;00m message_mod\u001b[38;5;241m.\u001b[39mDecodeError(\u001b[38;5;124m'\u001b[39m\u001b[38;5;124mTruncated message.\u001b[39m\u001b[38;5;124m'\u001b[39m)\n\u001b[1;32m   1135\u001b[0m \u001b[38;5;28;01mexcept\u001b[39;00m struct\u001b[38;5;241m.\u001b[39merror \u001b[38;5;28;01mas\u001b[39;00m e:\n\u001b[1;32m   1136\u001b[0m   \u001b[38;5;28;01mraise\u001b[39;00m message_mod\u001b[38;5;241m.\u001b[39mDecodeError(e)\n",
      "\u001b[0;31mDecodeError\u001b[0m: Truncated message."
     ]
    }
   ],
   "source": [
    "feed.ParseFromString(response.content)"
   ]
  },
  {
   "cell_type": "code",
   "execution_count": null,
   "id": "07b21654",
   "metadata": {},
   "outputs": [],
   "source": [
    "feed.entity[0]"
   ]
  },
  {
   "cell_type": "code",
   "execution_count": null,
   "id": "8446f2b4",
   "metadata": {},
   "outputs": [],
   "source": []
  }
 ],
 "metadata": {
  "interpreter": {
   "hash": "f1e22800e7071019f7887c9d0fe133a5e2a83835587d314a998ce685925d90ab"
  },
  "kernelspec": {
   "display_name": "Python [conda env:gtfs]",
   "language": "python",
   "name": "conda-env-gtfs-py"
  },
  "language_info": {
   "codemirror_mode": {
    "name": "ipython",
    "version": 3
   },
   "file_extension": ".py",
   "mimetype": "text/x-python",
   "name": "python",
   "nbconvert_exporter": "python",
   "pygments_lexer": "ipython3",
   "version": "3.9.10"
  }
 },
 "nbformat": 4,
 "nbformat_minor": 5
}
