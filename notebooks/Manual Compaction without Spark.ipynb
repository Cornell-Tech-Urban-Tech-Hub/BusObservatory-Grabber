{
 "cells": [
  {
   "cell_type": "code",
   "execution_count": 2,
   "id": "82d0164e-728d-4047-89f0-19dee86b3c6e",
   "metadata": {},
   "outputs": [],
   "source": [
    "# get list of systems\n",
    "\n",
    "import json\n",
    "import boto3\n",
    "\n",
    "bucket=\"busobservatory-migration\"\n",
    "region=\"us-east-1\"\n",
    "config_object_key = \"_bus_observatory_config.json\"\n",
    "    \n",
    "s3 = boto3.resource(\"s3\")\n",
    "obj = s3.Object(bucket, config_object_key)\n",
    "\n",
    "config = json.load(obj.get()['Body'])"
   ]
  },
  {
   "cell_type": "code",
   "execution_count": null,
   "id": "cb651600-e1ab-4c88-a02b-fcf662ec0a36",
   "metadata": {},
   "outputs": [],
   "source": [
    "# iterate over systems\n",
    "\n",
    "for system_id, system_config in config.items():\n",
    "    \n",
    "    # \n",
    "    \n",
    "    "
   ]
  }
 ],
 "metadata": {
  "kernelspec": {
   "display_name": "Python [conda env:bigdata]",
   "language": "python",
   "name": "conda-env-bigdata-py"
  },
  "language_info": {
   "codemirror_mode": {
    "name": "ipython",
    "version": 3
   },
   "file_extension": ".py",
   "mimetype": "text/x-python",
   "name": "python",
   "nbconvert_exporter": "python",
   "pygments_lexer": "ipython3",
   "version": "3.9.5"
  }
 },
 "nbformat": 4,
 "nbformat_minor": 5
}
