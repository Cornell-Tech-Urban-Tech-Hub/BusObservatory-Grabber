{
 "cells": [
  {
   "cell_type": "code",
   "execution_count": null,
   "id": "6a62995a-10a0-426d-b450-7caa2db1912f",
   "metadata": {},
   "outputs": [],
   "source": [
    "response = requests.get(feed.url)\n",
    "\n",
    "# flatten data\n",
    "data = gtfs_realtime_pb2.FeedMessage()\n",
    "data.ParseFromString(response.content)\n",
    "\n",
    "# convert protobuf to dict\n",
    "buses_dict = protobuf_to_dict(data) "
   ]
  },
  {
   "cell_type": "code",
   "execution_count": null,
   "id": "5113c486-4810-4d72-b560-7cef5ec57cf4",
   "metadata": {},
   "outputs": [],
   "source": []
  },
  {
   "cell_type": "code",
   "execution_count": null,
   "id": "ccf42714-fe78-4ec8-82e6-49b658900311",
   "metadata": {},
   "outputs": [],
   "source": []
  },
  {
   "cell_type": "code",
   "execution_count": null,
   "id": "0d93c11a-a560-4da5-adbe-60d54d7d9b7d",
   "metadata": {},
   "outputs": [],
   "source": []
  },
  {
   "cell_type": "code",
   "execution_count": 1,
   "id": "7c126531-4dee-49a1-aaf0-b532bf6fcfa8",
   "metadata": {},
   "outputs": [],
   "source": [
    "import requests\n",
    "from google.transit import gtfs_realtime_pb2\n",
    "feed = gtfs_realtime_pb2.FeedMessage()"
   ]
  },
  {
   "cell_type": "code",
   "execution_count": 2,
   "id": "1b07dac2-f77b-42ce-b2d3-9cbff376f10e",
   "metadata": {},
   "outputs": [
    {
     "data": {
      "text/plain": [
       "21937"
      ]
     },
     "execution_count": 2,
     "metadata": {},
     "output_type": "execute_result"
    }
   ],
   "source": [
    "# https://bennettgarner.medium.com/parsing-gtfs-format-transit-data-in-real-time-with-python-3a528ba7aab7\n",
    "\n",
    "url = \"https://api.511.org/transit/vehiclepositions?api_key=bb24580d-aab4-4b2a-9722-508ffd4bc5ad&agency=SF\"\n",
    "\n",
    "response = requests.get(url, allow_redirects=True)\n",
    "feed.ParseFromString(response.content)\n"
   ]
  },
  {
   "cell_type": "code",
   "execution_count": 5,
   "id": "7d3fccc2-f486-4aa9-a23c-16820f0b9614",
   "metadata": {},
   "outputs": [
    {
     "data": {
      "text/plain": [
       "379"
      ]
     },
     "execution_count": 5,
     "metadata": {},
     "output_type": "execute_result"
    }
   ],
   "source": [
    "len(feed.entity)"
   ]
  },
  {
   "cell_type": "code",
   "execution_count": 6,
   "id": "7f28c47d",
   "metadata": {},
   "outputs": [
    {
     "data": {
      "text/plain": [
       "id: \"1015\"\n",
       "vehicle {\n",
       "  trip {\n",
       "    trip_id: \"11154873\"\n",
       "    route_id: \"F\"\n",
       "    direction_id: 1\n",
       "  }\n",
       "  position {\n",
       "    latitude: 37.740345\n",
       "    longitude: -122.423996\n",
       "  }\n",
       "  timestamp: 1667577027\n",
       "  vehicle {\n",
       "    id: \"1015\"\n",
       "    label: \"\"\n",
       "    license_plate: \"\"\n",
       "  }\n",
       "}"
      ]
     },
     "execution_count": 6,
     "metadata": {},
     "output_type": "execute_result"
    }
   ],
   "source": [
    "feed.entity[0]"
   ]
  },
  {
   "cell_type": "code",
   "execution_count": null,
   "id": "8446f2b4",
   "metadata": {},
   "outputs": [],
   "source": []
  }
 ],
 "metadata": {
  "interpreter": {
   "hash": "f1e22800e7071019f7887c9d0fe133a5e2a83835587d314a998ce685925d90ab"
  },
  "kernelspec": {
   "display_name": "Python [conda env:gtfs]",
   "language": "python",
   "name": "conda-env-gtfs-py"
  },
  "language_info": {
   "codemirror_mode": {
    "name": "ipython",
    "version": 3
   },
   "file_extension": ".py",
   "mimetype": "text/x-python",
   "name": "python",
   "nbconvert_exporter": "python",
   "pygments_lexer": "ipython3",
   "version": "3.9.10"
  }
 },
 "nbformat": 4,
 "nbformat_minor": 5
}
